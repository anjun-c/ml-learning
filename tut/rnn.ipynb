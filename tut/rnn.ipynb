{
 "cells": [
  {
   "cell_type": "markdown",
   "metadata": {},
   "source": [
    "recurrent layers on itself\n",
    "new hidden layer with each data point in time series\n",
    "the output of the previous data point hidden layer is fed into the next hidden layer\n",
    "since depth must be limited in order to prevent the model from becoming crazy deep, model cannot save biases for very old information\n",
    "as such it may forget data from the very beginning"
   ]
  }
 ],
 "metadata": {
  "language_info": {
   "name": "python"
  }
 },
 "nbformat": 4,
 "nbformat_minor": 2
}
